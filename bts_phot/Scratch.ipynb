{
 "cells": [
  {
   "cell_type": "code",
   "execution_count": 43,
   "id": "93feafb7",
   "metadata": {},
   "outputs": [],
   "source": [
    "import numpy as np\n",
    "import matplotlib.pyplot as plt"
   ]
  },
  {
   "cell_type": "code",
   "execution_count": 45,
   "id": "17d679ae",
   "metadata": {},
   "outputs": [],
   "source": [
    "non_det = np.linspace(1,10,100)"
   ]
  },
  {
   "cell_type": "code",
   "execution_count": 118,
   "id": "8b994e7a",
   "metadata": {},
   "outputs": [
    {
     "name": "stdout",
     "output_type": "stream",
     "text": [
      "0.4772727272727275\n",
      "0.4318181818181821\n",
      "0.45454545454545503\n",
      "0.4318181818181821\n",
      "0.4772727272727275\n",
      "0.4318181818181821\n",
      "0.43545454545454554\n",
      "0.45454545454545503\n",
      "0.45818181818181847\n",
      "0.4318181818181821\n",
      "0.4318181818181821\n",
      "0.45454545454545503\n",
      "0.4318181818181821\n",
      "0.45454545454545503\n",
      "0.45454545454545503\n",
      "0.4318181818181821\n",
      "0.4318181818181821\n",
      "0.45454545454545503\n",
      "0.45454545454545503\n",
      "0.45454545454545503\n"
     ]
    }
   ],
   "source": [
    "for i in range(20):\n",
    "    medians = np.median((np.random.choice(non_det, size = (1000, len(non_det)), replace = True)), axis = 1)\n",
    "    median_unc = np.diff(np.percentile(medians, (16,84)))[0]/2\n",
    "    print(median_unc)\n",
    "# plt.hist(medians, bins = 6)"
   ]
  },
  {
   "cell_type": "code",
   "execution_count": 113,
   "id": "af9564c2",
   "metadata": {},
   "outputs": [
    {
     "name": "stdout",
     "output_type": "stream",
     "text": [
      "0.4318181818181821\n",
      "0.4545454545454546\n",
      "0.4318181818181821\n",
      "0.4318181818181821\n",
      "0.40909090909090917\n",
      "0.4318181818181821\n",
      "0.45454545454545503\n",
      "0.45454545454545503\n",
      "0.4318181818181821\n",
      "0.4318181818181821\n",
      "0.4545454545454546\n",
      "0.40909090909090917\n",
      "0.4318181818181821\n",
      "0.45454545454545503\n",
      "0.45454545454545503\n",
      "0.4318181818181821\n",
      "0.4772727272727275\n",
      "0.45454545454545503\n",
      "0.4772727272727275\n",
      "0.43545454545454554\n"
     ]
    }
   ],
   "source": [
    "for j in range(20):\n",
    "    medians = np.empty(1000)\n",
    "    for i in range(1000): \n",
    "        medians[i] = (np.median(np.random.choice(non_det, size = len(non_det), replace = True)))\n",
    "    median_unc = np.diff(np.percentile(medians, (16,84)))[0]/2\n",
    "    print(median_unc)\n",
    "# plt.hist(medians, bins = 6)"
   ]
  },
  {
   "cell_type": "code",
   "execution_count": null,
   "id": "66c3c33b",
   "metadata": {},
   "outputs": [],
   "source": [
    "np.ones_like(12, )"
   ]
  },
  {
   "cell_type": "code",
   "execution_count": null,
   "id": "5fdca42b",
   "metadata": {},
   "outputs": [],
   "source": []
  }
 ],
 "metadata": {
  "kernelspec": {
   "display_name": "Python 3 (ipykernel)",
   "language": "python",
   "name": "python3"
  },
  "language_info": {
   "codemirror_mode": {
    "name": "ipython",
    "version": 3
   },
   "file_extension": ".py",
   "mimetype": "text/x-python",
   "name": "python",
   "nbconvert_exporter": "python",
   "pygments_lexer": "ipython3",
   "version": "3.8.13"
  }
 },
 "nbformat": 4,
 "nbformat_minor": 5
}
